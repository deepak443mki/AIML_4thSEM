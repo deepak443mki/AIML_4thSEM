{
 "cells": [
  {
   "cell_type": "code",
   "execution_count": 6,
   "id": "b6a1967e-6249-4249-8b0b-4fc4da2c4277",
   "metadata": {},
   "outputs": [],
   "source": [
    "#List, Tuples, Set, Dictionaries\n",
    "\n",
    "import numpy as np\n",
    "import matplotlib.pyplot as plt"
   ]
  },
  {
   "cell_type": "code",
   "execution_count": 234,
   "id": "92e8b106-c19b-4411-a087-35029a4d505a",
   "metadata": {},
   "outputs": [
    {
     "name": "stdout",
     "output_type": "stream",
     "text": [
      "400\n"
     ]
    }
   ],
   "source": [
    "#variable\n",
    "num1 = 20 #variable 1\n",
    "num2 = 20 #variable 2\n",
    "mult = num1*num2\n",
    "print(mult)"
   ]
  },
  {
   "cell_type": "code",
   "execution_count": 232,
   "id": "3c5e9406-f9b0-4d98-88cd-e96f3c7dd6a9",
   "metadata": {},
   "outputs": [
    {
     "name": "stdin",
     "output_type": "stream",
     "text": [
      "Enter your age:  18\n"
     ]
    },
    {
     "name": "stdout",
     "output_type": "stream",
     "text": [
      "You can apply for voter ID.\n"
     ]
    }
   ],
   "source": [
    "#Conditional Statement if-else\n",
    "age = int(input(\"Enter your age: \"))\n",
    "if (age>18):\n",
    "    print(\"You can vote.\")\n",
    "elif (age==18):\n",
    "    print(\"You can apply for voter ID.\")\n",
    "else:\n",
    "    print(\"You are miner.\")"
   ]
  },
  {
   "cell_type": "code",
   "execution_count": 273,
   "id": "f2eada25-1b0f-479c-b849-f5c8abc080b7",
   "metadata": {},
   "outputs": [
    {
     "name": "stdout",
     "output_type": "stream",
     "text": [
      "1\n",
      "2\n",
      "3\n",
      "4\n",
      "5\n"
     ]
    }
   ],
   "source": [
    "#while Loop\n",
    "i = 1\n",
    "while i < 6:\n",
    "  print(i)\n",
    "  i += 1"
   ]
  },
  {
   "cell_type": "code",
   "execution_count": 275,
   "id": "efbe649d-fbd1-4a50-beb0-701b922bcfce",
   "metadata": {},
   "outputs": [
    {
     "name": "stdout",
     "output_type": "stream",
     "text": [
      "0\n",
      "1\n",
      "2\n",
      "3\n",
      "4\n",
      "5\n"
     ]
    }
   ],
   "source": [
    "#for loop\n",
    "for i in range (0, 6):\n",
    "    print(i)"
   ]
  },
  {
   "cell_type": "code",
   "execution_count": 265,
   "id": "a5a48ce0-e54d-4d21-ab69-846262f0ed00",
   "metadata": {},
   "outputs": [
    {
     "name": "stdout",
     "output_type": "stream",
     "text": [
      "['HP', 'DELL', 3.14, 'ASUS', 'ACER', 'SAMSUNG', 'APPLE', 'ASUS', True, 474]\n",
      "10\n"
     ]
    }
   ],
   "source": [
    "#Lists - \n",
    "\n",
    "List = [\"HP\", \"DELL\", 3.14, \"ASUS\", \"ACER\", \"SAMSUNG\", \"APPLE\", \"ASUS\", True, 474]\n",
    "print(List)\n",
    "print(len(List))"
   ]
  },
  {
   "cell_type": "code",
   "execution_count": 267,
   "id": "7e91ceb2-3a1c-4fd7-a9ba-5bf1b3ab0a3b",
   "metadata": {},
   "outputs": [
    {
     "name": "stdout",
     "output_type": "stream",
     "text": [
      "('Iron Man', 'Captain America', 'Thor', 'Hulk', 'HawkEye', 'Hulk', 300, False)\n",
      "8\n"
     ]
    }
   ],
   "source": [
    "#Tuples - \n",
    "# \n",
    "\n",
    "Tuples = (\"Iron Man\", \"Captain America\", \"Thor\", \"Hulk\", \"HawkEye\", \"Hulk\", 300, False)\n",
    "print(Tuples)\n",
    "print(len(Tuples))"
   ]
  },
  {
   "cell_type": "code",
   "execution_count": 48,
   "id": "2bc680b4-00fa-473f-83c3-33b7ba45d5d1",
   "metadata": {},
   "outputs": [
    {
     "name": "stdout",
     "output_type": "stream",
     "text": [
      "{False, True, 3.14156, 474, 'Deepak', 'Shyam'}\n",
      "6\n"
     ]
    }
   ],
   "source": [
    "#Sets - \n",
    "# Set is a collection which is unordered, unchangeable and unindexed.\n",
    "Sets = {474, \"Deepak\",True, False, 3.14156, \"Shyam\", \"Deepak\"}\n",
    "print(Sets)\n",
    "print(len(Sets))"
   ]
  },
  {
   "cell_type": "code",
   "execution_count": 58,
   "id": "95c694f2-0e7f-48a9-ba60-75ebf9e64336",
   "metadata": {},
   "outputs": [
    {
     "name": "stdout",
     "output_type": "stream",
     "text": [
      "{'Iron Man': 'Tony Stark', 'Ant Man': 'Scott Lang', 'Captain America': 'Steve Rogers', 'Hulk': 'Bruce Banner', 'I Love You': 3000}\n",
      "5\n"
     ]
    }
   ],
   "source": [
    "#Dictionaries -\n",
    "# Dictionary items are ordered, changeable, and do not allow duplicates\n",
    "# Dictionary items are presented in key:value paris, and referred by key name\n",
    "\n",
    "Dictionaries = {\n",
    "    \"Iron Man\":\"Tony Stark\",\n",
    "    \"Ant Man\":\"Scott Lang\",\n",
    "    \"Captain America\":\"Steve Rogers\",\n",
    "    \"Hulk\":\"Bruce Banner\",\n",
    "    \"I Love You\":3000,\n",
    "    \"Ant Man\":\"Scott Lang\"\n",
    "}\n",
    "print(Dictionaries)\n",
    "print(len(Dictionaries))"
   ]
  },
  {
   "cell_type": "code",
   "execution_count": 214,
   "id": "58bac201-21f1-49bc-8ee2-a35649ad8b96",
   "metadata": {},
   "outputs": [
    {
     "data": {
      "image/png": "[encoded data removed]",
      "text/plain": [
       "<Figure size 640x480 with 1 Axes>"
      ]
     },
     "metadata": {},
     "output_type": "display_data"
    }
   ],
   "source": [
    "\n",
    "x = np.linspace(0, 10, 5)\n",
    "m=4\n",
    "y = m*x\n",
    "\n",
    "plt.plot(x, y)\n",
    "plt.title(\"Graph of y = sin(x)\")\n",
    "plt.xlabel(\"x value\")\n",
    "plt.ylabel(\"y value\")\n",
    "plt.axhline(0, color = \"gray\")\n",
    "plt.axvline(0, color = \"gray\")\n",
    "plt.show()"
   ]
  },
  {
   "cell_type": "code",
   "execution_count": 8,
   "id": "18db8cab-ccab-4fe3-8160-02e04a9695a4",
   "metadata": {},
   "outputs": [
    {
     "data": {
      "image/png": "[encoded data removed]",
      "text/plain": [
       "<Figure size 640x480 with 1 Axes>"
      ]
     },
     "metadata": {},
     "output_type": "display_data"
    }
   ],
   "source": [
    "x = np.linspace(-10, 10, 100)\n",
    "y = np.sin(x)\n",
    "\n",
    "plt.plot(x, y)\n",
    "plt.title(\"Graph of y = sin(x)\")\n",
    "plt.xlabel(\"x value\")\n",
    "plt.ylabel(\"y value\")\n",
    "plt.axhline(0, color = \"gray\")\n",
    "plt.axvline(0, color = \"gray\")\n",
    "plt.show()"
   ]
  },
  {
   "cell_type": "code",
   "execution_count": 22,
   "id": "c1be8ff6-9267-49ef-8379-9664aea39576",
   "metadata": {},
   "outputs": [
    {
     "data": {
      "image/png": "[encoded data removed]",
      "text/plain": [
       "<Figure size 640x480 with 1 Axes>"
      ]
     },
     "metadata": {},
     "output_type": "display_data"
    }
   ],
   "source": [
    "#pie chart\n",
    "\n",
    "fruits = ['Apples', 'Banana', 'Dates', 'Mangoes']\n",
    "amount = [30, 20, 10, 60]\n",
    "\n",
    "plt.pie(amount, labels=fruits, autopct='%1.1f%%')\n",
    "plt.title('Fruit Distribution')\n",
    "plt.show()"
   ]
  },
  {
   "cell_type": "code",
   "execution_count": 28,
   "id": "bf70334b-8e67-429c-86a9-665a9c282bbc",
   "metadata": {},
   "outputs": [
    {
     "data": {
      "image/png": "[encoded data removed]",
      "text/plain": [
       "<Figure size 640x480 with 1 Axes>"
      ]
     },
     "metadata": {},
     "output_type": "display_data"
    }
   ],
   "source": [
    "#bar graph\n",
    "fruits = ['Apples', 'Bananas', 'Cherries', 'Dates']\n",
    "sales = [400, 350, 300, 450]\n",
    "\n",
    "plt.bar(fruits, sales)\n",
    "plt.title('Fruit Sales')\n",
    "plt.xlabel('Fruits')\n",
    "plt.ylabel('Sales')\n",
    "plt.show()"
   ]
  },
  {
   "cell_type": "code",
   "execution_count": 13,
   "id": "f94dccc0-b967-4998-8e84-52a0c0e16070",
   "metadata": {},
   "outputs": [
    {
     "name": "stdout",
     "output_type": "stream",
     "text": [
      "A B C D E F "
     ]
    }
   ],
   "source": [
    "#Uninformed search Tech - \n",
    "#1. BFS Search(1)\n",
    "from collections import deque\n",
    "# Example graph represented as an adjacency list\n",
    "graph = {\n",
    "    'A': ['B', 'C'],\n",
    "    'B': ['A', 'D', 'E'],\n",
    "    'C': ['A', 'F'],\n",
    "    'D': ['B'],\n",
    "    'E': ['B', 'F'],\n",
    "    'F': ['C', 'E']\n",
    "}\n",
    "\n",
    "# Initialize the starting node and data structures\n",
    "start = 'A'\n",
    "queue = deque([start])  # Create a queue and enqueue the start node\n",
    "visited = set([start])  # Create a set to track visited nodes\n",
    "\n",
    "# Perform BFS\n",
    "while queue:\n",
    "    node = queue.popleft()  # Dequeue a node from the front of the queue\n",
    "    print(node, end=\" \")    # Process the node (here we print it)\n",
    "    \n",
    "    # Explore the neighbors of the current node\n",
    "    for neighbor in graph[node]:\n",
    "        if neighbor not in visited:\n",
    "            visited.add(neighbor)  # Mark the neighbor as visited\n",
    "            queue.append(neighbor)  # Enqueue the neighbor\n"
   ]
  },
  {
   "cell_type": "code",
   "execution_count": 2,
   "id": "cf310145-9218-4bf9-a54c-4ffcf27b790c",
   "metadata": {},
   "outputs": [
    {
     "name": "stdout",
     "output_type": "stream",
     "text": [
      "A B C D F E G "
     ]
    }
   ],
   "source": [
    " #1(ii) BFS Search(2)\n",
    "#Uninformed search Tech - \n",
    "#1. BFS Search(1)\n",
    "from collections import deque\n",
    "# Example graph represented as an adjacency list\n",
    "graph = {\n",
    "    'A': ['B', 'C'],\n",
    "    'B': ['A', 'D', 'C'],\n",
    "    'C': ['A', 'F', 'B', 'D', 'E'],\n",
    "    'D': ['B', 'A', 'C', 'E', 'F'],\n",
    "    'E': ['C', 'F', 'D', 'G'],\n",
    "    'F': ['D', 'C', 'E', 'G'],\n",
    "    'G':['E', 'F']\n",
    "}\n",
    "\n",
    "# Initialize the starting node and data structures\n",
    "start = 'A'\n",
    "queue = deque([start])  # Create a queue and enqueue the start node\n",
    "visited = set([start])  # Create a set to track visited nodes\n",
    "\n",
    "# Perform BFS\n",
    "while queue:\n",
    "    node = queue.popleft()  # Dequeue a node from the front of the queue\n",
    "    print(node, end=\" \")    # Process the node (here we print it)\n",
    "    \n",
    "    # Explore the neighbors of the current node\n",
    "    for neighbor in graph[node]:\n",
    "        if neighbor not in visited:\n",
    "            visited.add(neighbor)  # Mark the neighbor as visited\n",
    "            queue.append(neighbor)  # Enqueue the neighbor\n"
   ]
  },
  {
   "cell_type": "code",
   "execution_count": 3,
   "id": "1079cc5c-03c1-40f5-b088-97f9b942340b",
   "metadata": {},
   "outputs": [
    {
     "name": "stdout",
     "output_type": "stream",
     "text": [
      "DFS Traversal Order:\n",
      "A B E F C G D "
     ]
    }
   ],
   "source": [
    "#Uninformed Search Technoiques\n",
    "#2. DFS Search\n",
    "graph = {\n",
    "    'A': ['B', 'C', 'D'],\n",
    "    'B': ['E', 'F'],\n",
    "    'C': ['G'],\n",
    "    'D': [],\n",
    "    'E': [],\n",
    "    'F': [],\n",
    "    'G': []\n",
    "}\n",
    "\n",
    "# Initialize\n",
    "start_node = 'A'\n",
    "visited = set()  # To track visited nodes\n",
    "stack = [start_node]  # Stack to store nodes to visit\n",
    "\n",
    "# Depth First Search (without recursion)\n",
    "print(\"DFS Traversal Order:\")\n",
    "while stack:\n",
    "    current_node = stack.pop()  # Get the last added node\n",
    "    if current_node not in visited:\n",
    "        print(current_node, end=\" \")  # Process the current node\n",
    "        visited.add(current_node)  # Mark as visited\n",
    "        # Add neighbors in reverse order to maintain the correct order\n",
    "        for neighbor in reversed(graph[current_node]):\n",
    "            if neighbor not in visited:\n",
    "                stack.append(neighbor)\n"
   ]
  },
  {
   "cell_type": "code",
   "execution_count": 15,
   "id": "7c4fd8b3-ee2c-44e2-bd16-7298fa4f6d3a",
   "metadata": {},
   "outputs": [
    {
     "name": "stdout",
     "output_type": "stream",
     "text": [
      "DFS Traversal Order:\n",
      "1 3 14 15 4 11 13 12 2 8 9 5 10 6 7 "
     ]
    }
   ],
   "source": [
    "#Uninformed Search Technoiques\n",
    "#2. DFS Search(Another example)\n",
    "graph = {\n",
    "    1: [3, 4, 2],\n",
    "    3: [14, 15],\n",
    "    4: [11, 12],\n",
    "    2: [8, 5],\n",
    "    14: [],\n",
    "    15: [],\n",
    "    11: [13],\n",
    "    12: [],\n",
    "    8: [9],\n",
    "    5: [10, 6],\n",
    "    13: [],\n",
    "    9: [],\n",
    "    10: [],\n",
    "    6: [7],\n",
    "    7: []\n",
    "    \n",
    "}\n",
    "\n",
    "# Initialize\n",
    "start_node = 1\n",
    "visited = set()  # To track visited nodes\n",
    "stack = [start_node]  # Stack to store nodes to visit\n",
    "\n",
    "# Depth First Search (without recursion)\n",
    "print(\"DFS Traversal Order:\")\n",
    "while stack:\n",
    "    current_node = stack.pop()  # Get the last added node\n",
    "    if current_node not in visited:\n",
    "        print(current_node, end=\" \")  # Process the current node\n",
    "        visited.add(current_node)  # Mark as visited\n",
    "        # Add neighbors in reverse order to maintain the correct order\n",
    "        for neighbor in reversed(graph[current_node]):\n",
    "            if neighbor not in visited:\n",
    "                stack.append(neighbor)\n"
   ]
  },
  {
   "cell_type": "code",
   "execution_count": 21,
   "id": "161835ed-16af-46ad-90be-84a4ab6142c7",
   "metadata": {},
   "outputs": [
    {
     "name": "stdout",
     "output_type": "stream",
     "text": [
      "Best-First Search Traversal: [0, 2, 5]\n"
     ]
    }
   ],
   "source": [
    "#informed search technique\n",
    "#best first search\n",
    "\n",
    "import heapq\n",
    "\n",
    "# Graph represented as an adjacency list\n",
    "graph = {\n",
    "    0: [1, 2],\n",
    "    1: [0, 3, 4],\n",
    "    2: [0, 5],\n",
    "    3: [1],\n",
    "    4: [1],\n",
    "    5: [2]\n",
    "}\n",
    "\n",
    "# Heuristic values for each node\n",
    "heuristic = {\n",
    "    0: 10,\n",
    "    1: 8,\n",
    "    2: 5,\n",
    "    3: 7,\n",
    "    4: 3,\n",
    "    5: 0  # Assuming node 5 is the goal\n",
    "}\n",
    "\n",
    "# Initialization\n",
    "start_node = 0\n",
    "goal_node = 5\n",
    "priority_queue = []\n",
    "heapq.heappush(priority_queue, (heuristic[start_node], start_node))  # (heuristic, node)\n",
    "visited = set()\n",
    "path = []\n",
    "\n",
    "# Best-First Search\n",
    "while priority_queue:\n",
    "    # Get the node with the smallest heuristic value\n",
    "    _, current = heapq.heappop(priority_queue)\n",
    "    \n",
    "    if current in visited:\n",
    "        continue\n",
    "    \n",
    "    # Mark the current node as visited and add it to the path\n",
    "    visited.add(current)\n",
    "    path.append(current)\n",
    "    \n",
    "    # If the goal is reached, stop\n",
    "    if current == goal_node:\n",
    "        break\n",
    "    \n",
    "    # Add neighbors to the priority queue\n",
    "    for neighbor in graph[current]:\n",
    "        if neighbor not in visited:\n",
    "            heapq.heappush(priority_queue, (heuristic[neighbor], neighbor))\n",
    "\n",
    "# Output the result\n",
    "print(\"Best-First Search Traversal:\", path)\n"
   ]
  },
  {
   "cell_type": "code",
   "execution_count": 25,
   "id": "0155147f-dbb3-47db-995b-4e57f9658dff",
   "metadata": {},
   "outputs": [
    {
     "name": "stdout",
     "output_type": "stream",
     "text": [
      "Best-First Search Traversal: ['S', 'B', 'F', 'G']\n"
     ]
    }
   ],
   "source": [
    "#informed search technique\n",
    "#best first search(ii)\n",
    "#another example\n",
    "\n",
    "import heapq\n",
    "\n",
    "# Graph represented as an adjacency list\n",
    "graph = {\n",
    "    'S': ['A', 'B'],\n",
    "    'A': ['S', 'C', 'D'],\n",
    "    'B': ['S', 'E', 'F'],\n",
    "    'C': ['A'],\n",
    "    'D': ['A'],\n",
    "    'E': ['B', 'H'],\n",
    "    'F': ['B', 'I', 'G'],\n",
    "    'H':['E'],\n",
    "    'I': ['F'],\n",
    "    'G':['F']\n",
    "    \n",
    "}\n",
    "\n",
    "# Heuristic values for each node\n",
    "heuristic = {\n",
    "    'S':13, \n",
    "    'A':12, \n",
    "    'B':4, \n",
    "    'C':7, \n",
    "    'D':3, \n",
    "    'E':8, \n",
    "    'F': 2,\n",
    "    'H':4, \n",
    "    'I':9, \n",
    "    'G': 0# Assuming node 5 is the goal\n",
    "}\n",
    "\n",
    "# Initialization\n",
    "start_node = 'S'\n",
    "goal_node = 'G'\n",
    "priority_queue = []\n",
    "heapq.heappush(priority_queue, (heuristic[start_node], start_node))  # (heuristic, node)\n",
    "visited = set()\n",
    "path = []\n",
    "\n",
    "# Best-First Search\n",
    "while priority_queue:\n",
    "    # Get the node with the smallest heuristic value\n",
    "    _, current = heapq.heappop(priority_queue)\n",
    "    \n",
    "    if current in visited:\n",
    "        continue\n",
    "    \n",
    "    # Mark the current node as visited and add it to the path\n",
    "    visited.add(current)\n",
    "    path.append(current)\n",
    "    \n",
    "    # If the goal is reached, stop\n",
    "    if current == goal_node:\n",
    "        break\n",
    "    \n",
    "    # Add neighbors to the priority queue\n",
    "    for neighbor in graph[current]:\n",
    "        if neighbor not in visited:\n",
    "            heapq.heappush(priority_queue, (heuristic[neighbor], neighbor))\n",
    "\n",
    "# Output the result\n",
    "print(\"Best-First Search Traversal:\", path)\n"
   ]
  },
  {
   "cell_type": "code",
   "execution_count": 277,
   "id": "e6889eda-6385-4dac-9e9f-583e75146fdb",
   "metadata": {},
   "outputs": [
    {
     "name": "stdout",
     "output_type": "stream",
     "text": [
      "Path found: ['A', 'B', 'D', 'G']\n"
     ]
    }
   ],
   "source": [
    "#Informed search Techique\n",
    "#A* search\n",
    "\n",
    "import heapq\n",
    "\n",
    "# Node and heuristic setup\n",
    "start = \"A\"  # Starting node\n",
    "goal = \"G\"   # Goal node\n",
    "nodes = {\n",
    "    \"A\": {\"B\": 1, \"C\": 4},   # A has children B and C, costs 1 and 4 respectively\n",
    "    \"B\": {\"D\": 2, \"E\": 5},   # B has children D and E, costs 2 and 5 respectively\n",
    "    \"C\": {\"E\": 1},           # C has child E, cost 1\n",
    "    \"D\": {\"G\": 3},           # D has child G, cost 3\n",
    "    \"E\": {\"G\": 1},           # E has child G, cost 1\n",
    "    \"G\": {}                  # G has no children, it's the goal\n",
    "}\n",
    "\n",
    "# Heuristic values (estimated cost to reach the goal)\n",
    "heuristic = {\n",
    "    \"A\": 6,  # Estimated cost to reach G from A\n",
    "    \"B\": 5,\n",
    "    \"C\": 2,\n",
    "    \"D\": 1,\n",
    "    \"E\": 1,\n",
    "    \"G\": 0  # The goal node has a heuristic of 0\n",
    "}\n",
    "\n",
    "# Open list (priority queue) and closed list\n",
    "open_list = []\n",
    "closed_list = set()\n",
    "\n",
    "# Starting node setup\n",
    "heapq.heappush(open_list, (heuristic[start], 0, start))  # (f_score, g_score, node)\n",
    "g_score = {start: 0}  # Starting node has a g_score of 0\n",
    "came_from = {}  # To reconstruct the path\n",
    "\n",
    "while open_list:\n",
    "    # Pop the node with the lowest f_score\n",
    "    current_f, current_g, current_node = heapq.heappop(open_list)\n",
    "\n",
    "    # If the current node is the goal, reconstruct the path\n",
    "    if current_node == goal:\n",
    "        path = []\n",
    "        while current_node in came_from:\n",
    "            path.append(current_node)\n",
    "            current_node = came_from[current_node]\n",
    "        path.append(start)\n",
    "        path.reverse()\n",
    "        print(\"Path found:\", path)\n",
    "        break\n",
    "\n",
    "    closed_list.add(current_node)\n",
    "\n",
    "    # Explore neighbors\n",
    "    for neighbor, cost in nodes[current_node].items():\n",
    "        if neighbor in closed_list:\n",
    "            continue\n",
    "\n",
    "        tentative_g_score = current_g + cost\n",
    "\n",
    "        # If the neighbor is not in the open list or we found a better path to it\n",
    "        if neighbor not in g_score or tentative_g_score < g_score[neighbor]:\n",
    "            g_score[neighbor] = tentative_g_score\n",
    "            f_score = tentative_g_score + heuristic[neighbor]\n",
    "            heapq.heappush(open_list, (f_score, tentative_g_score, neighbor))\n",
    "            came_from[neighbor] = current_node\n",
    "else:\n",
    "    print(\"No path found.\")\n"
   ]
  },
  {
   "cell_type": "code",
   "execution_count": null,
   "id": "c212dd5d-7744-4ada-94b8-be2432b4fa18",
   "metadata": {},
   "outputs": [],
   "source": []
  }
 ],
 "metadata": {
  "kernelspec": {
   "display_name": "Python 3 (ipykernel)",
   "language": "python",
   "name": "python3"
  },
  "language_info": {
   "codemirror_mode": {
    "name": "ipython",
    "version": 3
   },
   "file_extension": ".py",
   "mimetype": "text/x-python",
   "name": "python",
   "nbconvert_exporter": "python",
   "pygments_lexer": "ipython3",
   "version": "3.11.7"
  }
 },
 "nbformat": 4,
 "nbformat_minor": 5
}
